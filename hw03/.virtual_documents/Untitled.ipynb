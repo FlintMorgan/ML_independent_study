


import numpy as np
X = np.linspace(-1,1,1000)

def h_D(x):
    x1 = x[np.random.randint(len(x))]
    x2 = x[np.random.randint(len(x))]
    
    return((x1**2+x2**2)/2)

def get_h_avg(x,p):
    h = 0
    for i in range(p):
        h += h_D(x)
    h /= p
    return(h)

h_avg = get_h_avg(X, 100000)
print("h_avg:",h_avg)

def get_bias(x,p,h):
    bias =0
    for i in range(p):
        x_i = x[np.random.randint(len(x))]
        bias += (h-x_i**2)**2
    bias /= p
    return(bias)

bias = get_bias(X, 100000, h_avg)
print("bias:",bias)

def get_var(x,p,h):
    var = 0
    for i in range(p):
        var += (h_D(x)-h)**2
    var /= p
    return(var)

var = get_var(X, 100000,h_avg)
print("varience:",var)

def get_risk(x, P,J):
    Risk = 0
    for j in range(J):
        x_j = x[np.random.randint(len(x))]
        risk_j = 0
        for p in range(P):
            risk_j += (h_D(x) - x_j**2)**2
        risk_j /= P
        Risk += risk_j
    Risk/=J
    return(Risk)

Risk = get_risk(X,1000,1000)
print("Risk:",Risk)
print("Bias + Var:",(bias+ var))
            





X = np.linspace(-1,1,1000)

def h_D(x):
    x1 = X[np.random.randint(len(X))]
    x2 = X[np.random.randint(len(X))]
    if x1 == x2:
        a = 0
    else:
        a = (x2**2-x1**2)/(x2-x1)
    b = x1**2-a*x1
    return(a*x+b)

def get_h_avg(p):
    h = np.zeros(len(X))
    for i in range(p):
        h += h_D(X)
    h /= p
    return(h)

h_avg = get_h_avg(100000)
#print("h_avg:",h_avg)

def get_bias(p):
    bias =0
    for i in range(p):
        rand_idx = np.random.randint(len(X))
        x_i = X[rand_idx]
        bias += (h_avg[rand_idx]-x_i**2)**2
    bias /= p
    return(bias)

bias = get_bias(100000)
print("bias:",bias)

def get_var(p):
    var = 0
    for i in range(p):
        var += (h_D(X)-h_avg)**2
    var /= p
    var = var.mean()
    return(var)

var = get_var(100000)
print("varience:",var)


print("Bias + Var:",(bias+ var))





X = np.linspace(-1,1,1000); Y = np.sin(np.pi*X)
def RAND_IDX(range, NOT):
    rand = np.random.randint(range)
    if rand == NOT:
        rand = RAND_IDX(range,NOT)
    return(rand)

def Theta_hat(Gamma):
    rand_idx1 = np.random.randint(len(X))
    rand_idx2 = RAND_IDX(len(X),rand_idx1)
    

    A = np.array([[1,X[rand_idx1]],[1,X[rand_idx2]]])
    y = np.array([[Y[rand_idx1]],[Y[rand_idx2]]])

    theta_hat = np.linalg.inv(A.T @ A + Gamma.T @ Gamma) @ A.T@y 
    return(theta_hat)





def get_theta_avg(p,Gamma):
    h = np.array([[0.0],[0.0]])
    for i in range(p):
        h += Theta_hat(Gamma).astype(float)
    h /= p
    return(h)



def get_bias(p):
    bias =0
    for i in range(p):
        rand_idx = np.random.randint(len(X))
        x_i = X[rand_idx]
        bias += (np.array([x_i,1])@theta_avg-Y[rand_idx])**2
    bias /= p
    return(bias)

def get_var(p,Gamma):
    var = 0
    for i in range(p):
        var += (Theta_hat(Gamma)-h_avg)**2
    var /= p
    var = var.mean()
    return(var)

print("Gamma A")
Gamma_a = np.array([[0,0],[0,1000]])
theta_avg = get_theta_avg(100000,Gamma_a)
print("theta_avg:",theta_avg)
bias = get_bias(100000)
print("bias:",bias)
var = get_var(100000, Gamma_a)
print("varience:",var)

print("\nGamma B")
Gamma_b = np.array([[0,0],[0,0]])
theta_avg = get_theta_avg(100000,Gamma_b)
print("theta_avg:",theta_avg)
bias = get_bias(100000)
print("bias:",bias)
var = get_var(100000, Gamma_b)
print("varience:",var)
